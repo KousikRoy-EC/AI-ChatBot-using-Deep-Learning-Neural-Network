{
 "cells": [
  {
   "cell_type": "code",
   "execution_count": 1,
   "id": "north-relations",
   "metadata": {},
   "outputs": [],
   "source": [
    "import nltk\n",
    "from nltk.stem import WordNetLemmatizer\n",
    "lemmatizer = WordNetLemmatizer()\n",
    "import json\n",
    "import pickle\n",
    "import tensorflow"
   ]
  },
  {
   "cell_type": "code",
   "execution_count": 2,
   "id": "planned-polymer",
   "metadata": {},
   "outputs": [],
   "source": [
    "import numpy as np\n",
    "from tensorflow.keras.models import Sequential\n",
    "from tensorflow.keras.layers import Dense, Dropout , Activation, Flatten , Conv2D, MaxPooling2D\n",
    "from tensorflow.keras.optimizers import SGD\n",
    "import random"
   ]
  },
  {
   "cell_type": "code",
   "execution_count": 3,
   "id": "vital-cisco",
   "metadata": {},
   "outputs": [],
   "source": [
    "words=[]\n",
    "labels = []\n",
    "docs = []\n",
    "ignore_list = ['?', '!','.']"
   ]
  },
  {
   "cell_type": "code",
   "execution_count": 4,
   "id": "searching-shopper",
   "metadata": {},
   "outputs": [],
   "source": [
    "dataset = open('intents.json').read()\n",
    "intents = json.loads(dataset)"
   ]
  },
  {
   "cell_type": "code",
   "execution_count": null,
   "id": "exciting-velvet",
   "metadata": {},
   "outputs": [],
   "source": [
    "for intent in intents['intents']:\n",
    "    for pattern in intent['patterns']:\n",
    "        word_token = nltk.word_tokenize(pattern)\n",
    "        words.extend(word_token)\n",
    "        docs.append((word_token, intent['tag']))\n",
    "        if intent['tag'] not in labels:\n",
    "            labels.append(intent['tag'])"
   ]
  },
  {
   "cell_type": "code",
   "execution_count": null,
   "id": "opened-darwin",
   "metadata": {},
   "outputs": [],
   "source": [
    "words = [lemmatizer.lemmatize(word.lower()) for word in words if word not in ignore_list]\n",
    "words = sorted(list(set(words)))"
   ]
  },
  {
   "cell_type": "code",
   "execution_count": null,
   "id": "organized-elevation",
   "metadata": {},
   "outputs": [],
   "source": [
    "labels = sorted(list(set(labels)))"
   ]
  },
  {
   "cell_type": "code",
   "execution_count": null,
   "id": "neural-mentor",
   "metadata": {},
   "outputs": [],
   "source": [
    "pickle.dump(words,open('words.pkl','wb'))\n",
    "pickle.dump(labels,open('labels.pkl','wb'))"
   ]
  },
  {
   "cell_type": "code",
   "execution_count": null,
   "id": "defensive-transport",
   "metadata": {},
   "outputs": [],
   "source": [
    "# creating our training data:\n",
    "training_data = []\n",
    "\n",
    "output = [0]*len(labels)\n",
    "\n",
    "for doc in docs:\n",
    "    bag_of_words = []\n",
    "    pattern_words = doc[0]\n",
    "    pattern_words = [lemmatizer.lemmatize(word.lower()) for word in pattern_words]\n",
    "    \n",
    "    for w in words:\n",
    "        if w in pattern_words:\n",
    "            bag_of_words.append(1)\n",
    "        else:\n",
    "            bag_of_words.append(0)\n",
    "            \n",
    "    output_row = list(output)\n",
    "    output_row[labels.index(doc[1])] = 1\n",
    "    \n",
    "    training_data.append([bag_of_words,output_row])"
   ]
  },
  {
   "cell_type": "code",
   "execution_count": null,
   "id": "executed-constitution",
   "metadata": {},
   "outputs": [],
   "source": [
    "random.shuffle(training_data)\n",
    "training_data = np.array(training_data)"
   ]
  },
  {
   "cell_type": "code",
   "execution_count": null,
   "id": "domestic-election",
   "metadata": {},
   "outputs": [],
   "source": [
    "x_train = list(training_data[:,0])\n",
    "y_train = list(training_data[:,1])"
   ]
  },
  {
   "cell_type": "code",
   "execution_count": null,
   "id": "narrative-hypothesis",
   "metadata": {},
   "outputs": [],
   "source": [
    "# Creating Model:\n",
    "\n",
    "model = Sequential()\n",
    "model.add(Dense(128, input_shape=(len(x_train[0]),), activation='relu'))\n",
    "model.add(Dropout(0.5))\n",
    "model.add(Dense(64, activation='relu'))\n",
    "model.add(Dropout(0.5))\n",
    "model.add(Dense(len(y_train[0]), activation='softmax'))"
   ]
  },
  {
   "cell_type": "code",
   "execution_count": null,
   "id": "incident-animation",
   "metadata": {},
   "outputs": [],
   "source": [
    "model.summary()"
   ]
  },
  {
   "cell_type": "code",
   "execution_count": null,
   "id": "facial-vacation",
   "metadata": {},
   "outputs": [],
   "source": [
    "sgd_optimizer = SGD(lr=0.01, decay=1e-6, momentum=0.9, nesterov=True)\n",
    "model.compile(loss='categorical_crossentropy', optimizer=sgd_optimizer, metrics=['accuracy'])"
   ]
  },
  {
   "cell_type": "code",
   "execution_count": null,
   "id": "exclusive-allen",
   "metadata": {},
   "outputs": [],
   "source": [
    "history = model.fit(np.array(x_train), np.array(y_train), epochs=200, batch_size=5, verbose=1)"
   ]
  },
  {
   "cell_type": "code",
   "execution_count": null,
   "id": "useful-moses",
   "metadata": {},
   "outputs": [],
   "source": [
    "model.save('chatbot_Application_model.h5', history)"
   ]
  },
  {
   "cell_type": "code",
   "execution_count": null,
   "id": "68573791",
   "metadata": {},
   "outputs": [],
   "source": [
    "import nltk\n",
    "from nltk.stem import WordNetLemmatizer\n",
    "lemmatizer = WordNetLemmatizer()\n",
    "import pickle\n",
    "import numpy as np\n",
    "import json\n",
    "import random\n",
    "from keras.models import load_model\n",
    "\n",
    "model = load_model('chatbot_Application_model.h5')\n",
    "\n",
    "intents = json.loads(open('intents.json').read())\n",
    "words = pickle.load(open('words.pkl','rb'))\n",
    "labels = pickle.load(open('labels.pkl','rb'))\n",
    "\n",
    "\n",
    "def bank_of_words(s,words, show_details=True):\n",
    "    bag_of_words = [0 for _ in range(len(words))]\n",
    "    sent_words = nltk.word_tokenize(s)\n",
    "    sent_words = [lemmatizer.lemmatize(word.lower()) for word in sent_words]\n",
    "    for sent in sent_words:\n",
    "        for i,w in enumerate(words):\n",
    "            if w == sent:\n",
    "                bag_of_words[i] = 1\n",
    "    return np.array(bag_of_words)\n",
    "\n",
    "def predict_label(s, model):\n",
    "    pred = bank_of_words(s, words,show_details=False)\n",
    "    response = model.predict(np.array([pred]))[0]\n",
    "    ERROR_THRESHOLD = 0.25\n",
    "    final_results = [[i,r] for i,r in enumerate(response) if r>ERROR_THRESHOLD]\n",
    "    final_results.sort(key=lambda x: x[1], reverse=True)\n",
    "    return_list = []\n",
    "    for r in final_results:\n",
    "        return_list.append({\"intent\": labels[r[0]], \"probability\": str(r[1])})\n",
    "    return return_list\n",
    "\n",
    "def Response(ints, intents_json):\n",
    "    tags = ints[0]['intent']\n",
    "    list_of_intents = intents_json['intents']\n",
    "    for i in list_of_intents:\n",
    "        if(i['tag']== tags):\n",
    "            response = random.choice(i['responses'])\n",
    "            break\n",
    "    return response\n",
    "\n",
    "def chatbot_response(msg):\n",
    "    ints = predict_label(msg, model)\n",
    "    response = Response(ints, intents)\n",
    "    return response\n",
    "            \n",
    "def chat():\n",
    "    print(\"Start chat with ChatBot of Project Gurukul\")\n",
    "    while True:\n",
    "        inp = input(\"You: \")\n",
    "        if inp.lower() == 'quit':\n",
    "            break\n",
    "        response = chatbot_response(inp)\n",
    "        print(\"\\n BOT: \" + response + '\\n\\n')\n",
    "\n",
    "chat()"
   ]
  }
 ],
 "metadata": {
  "kernelspec": {
   "display_name": "Python 3 (ipykernel)",
   "language": "python",
   "name": "python3"
  },
  "language_info": {
   "codemirror_mode": {
    "name": "ipython",
    "version": 3
   },
   "file_extension": ".py",
   "mimetype": "text/x-python",
   "name": "python",
   "nbconvert_exporter": "python",
   "pygments_lexer": "ipython3",
   "version": "3.9.12"
  }
 },
 "nbformat": 4,
 "nbformat_minor": 5
}
